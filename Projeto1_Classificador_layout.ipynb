{
 "cells": [
  {
   "cell_type": "markdown",
   "metadata": {
    "collapsed": false
   },
   "source": [
    "# Projeto 1 - Ciência dos Dados"
   ]
  },
  {
   "cell_type": "markdown",
   "metadata": {
    "collapsed": false
   },
   "source": [
    "Nome: Enrico Lopez Borges de Carvalho\n",
    "\n",
    "Nome: Luiza Valezim Augusto Pinto"
   ]
  },
  {
   "cell_type": "markdown",
   "metadata": {
    "collapsed": false
   },
   "source": [
    "**Atenção:** Serão permitidos grupos de três pessoas, mas com uma rubrica mais exigente. Grupos deste tamanho precisarão fazer um questionário de avaliação de trabalho em equipe"
   ]
  },
  {
   "cell_type": "markdown",
   "metadata": {
    "collapsed": false
   },
   "source": [
    "___\n",
    "Carregando algumas bibliotecas:"
   ]
  },
  {
   "cell_type": "code",
   "execution_count": 1,
   "metadata": {
    "collapsed": false
   },
   "outputs": [
   ],
   "source": [
    "%matplotlib inline\n",
    "\n",
    "import pandas as pd\n",
    "\n",
    "import matplotlib.pyplot as plt\n",
    "import numpy as np\n",
    "import os\n",
    "\n",
    "from IPython.display import display"
   ]
  },
  {
   "cell_type": "markdown",
   "metadata": {
    "collapsed": false
   },
   "source": [
    "**Em `filename`, coloque o nome do seu arquivo de dados!**"
   ]
  },
  {
   "cell_type": "code",
   "execution_count": 2,
   "metadata": {
    "collapsed": false
   },
   "outputs": [
    {
     "name": "stdout",
     "output_type": "stream",
     "text": [
      "Encontrei o arquivo Intel3.xlsx, tudo certo para prosseguir com a prova!\n"
     ]
    }
   ],
   "source": [
    "filename = 'Intel3.xlsx'\n",
    "if filename in os.listdir():\n",
    "    print(f'Encontrei o arquivo {filename}, tudo certo para prosseguir com a prova!')\n",
    "else:\n",
    "    print(f'Não encontrei o arquivo {filename} aqui no diretório {os.getcwd()}, será que você não baixou o arquivo?')"
   ]
  },
  {
   "cell_type": "markdown",
   "metadata": {
    "collapsed": false
   },
   "source": [
    "Carregando a base de dados com os tweets classificados como relevantes e não relevantes:"
   ]
  },
  {
   "cell_type": "code",
   "execution_count": 3,
   "metadata": {
    "collapsed": false
   },
   "outputs": [
    {
     "data": {
      "text/html": [
       "<div>\n",
       "<style scoped>\n",
       "    .dataframe tbody tr th:only-of-type {\n",
       "        vertical-align: middle;\n",
       "    }\n",
       "\n",
       "    .dataframe tbody tr th {\n",
       "        vertical-align: top;\n",
       "    }\n",
       "\n",
       "    .dataframe thead th {\n",
       "        text-align: right;\n",
       "    }\n",
       "</style>\n",
       "<table border=\"1\" class=\"dataframe\">\n",
       "  <thead>\n",
       "    <tr style=\"text-align: right;\">\n",
       "      <th></th>\n",
       "      <th>Treinamento</th>\n",
       "      <th>Relevância</th>\n",
       "    </tr>\n",
       "  </thead>\n",
       "  <tbody>\n",
       "    <tr>\n",
       "      <th>0</th>\n",
       "      <td>@culper_intel @mikayesfiona culper is correct</td>\n",
       "      <td>0</td>\n",
       "    </tr>\n",
       "    <tr>\n",
       "      <th>1</th>\n",
       "      <td>notebook 2 em 1 dell inspiron i14-5481-m11 8ª ...</td>\n",
       "      <td>0</td>\n",
       "    </tr>\n",
       "    <tr>\n",
       "      <th>2</th>\n",
       "      <td>meu pc quase queimou, ligava ele, abria o linu...</td>\n",
       "      <td>1</td>\n",
       "    </tr>\n",
       "    <tr>\n",
       "      <th>3</th>\n",
       "      <td>é aqui o funeral da amd? e a intel acomodada q...</td>\n",
       "      <td>2</td>\n",
       "    </tr>\n",
       "    <tr>\n",
       "      <th>4</th>\n",
       "      <td>ferramentas linux: os patches do driver de grá...</td>\n",
       "      <td>1</td>\n",
       "    </tr>\n",
       "  </tbody>\n",
       "</table>\n",
       "</div>"
      ],
      "text/plain": [
       "                                         Treinamento  Relevância\n",
       "0      @culper_intel @mikayesfiona culper is correct           0\n",
       "1  notebook 2 em 1 dell inspiron i14-5481-m11 8ª ...           0\n",
       "2  meu pc quase queimou, ligava ele, abria o linu...           1\n",
       "3  é aqui o funeral da amd? e a intel acomodada q...           2\n",
       "4  ferramentas linux: os patches do driver de grá...           1"
      ]
     },
     "execution_count": 3,
     "metadata": {
     },
     "output_type": "execute_result"
    }
   ],
   "source": [
    "train_raw = pd.read_excel(filename)\n",
    "train_raw.head(5)"
   ]
  },
  {
   "cell_type": "code",
   "execution_count": 4,
   "metadata": {
    "collapsed": false
   },
   "outputs": [
    {
     "data": {
      "text/html": [
       "<div>\n",
       "<style scoped>\n",
       "    .dataframe tbody tr th:only-of-type {\n",
       "        vertical-align: middle;\n",
       "    }\n",
       "\n",
       "    .dataframe tbody tr th {\n",
       "        vertical-align: top;\n",
       "    }\n",
       "\n",
       "    .dataframe thead th {\n",
       "        text-align: right;\n",
       "    }\n",
       "</style>\n",
       "<table border=\"1\" class=\"dataframe\">\n",
       "  <thead>\n",
       "    <tr style=\"text-align: right;\">\n",
       "      <th></th>\n",
       "      <th>Teste</th>\n",
       "      <th>Relevância</th>\n",
       "    </tr>\n",
       "  </thead>\n",
       "  <tbody>\n",
       "    <tr>\n",
       "      <th>0</th>\n",
       "      <td>@victrixhatii tava vendo o ryzen ontem. cabulo...</td>\n",
       "      <td>1</td>\n",
       "    </tr>\n",
       "    <tr>\n",
       "      <th>1</th>\n",
       "      <td>🔈 🚨 alerta 1: renda brasil morre no ninho : bo...</td>\n",
       "      <td>0</td>\n",
       "    </tr>\n",
       "    <tr>\n",
       "      <th>2</th>\n",
       "      <td>@fujiwaraca eu vi, agora as coisas vão ficar i...</td>\n",
       "      <td>2</td>\n",
       "    </tr>\n",
       "    <tr>\n",
       "      <th>3</th>\n",
       "      <td>rt @stabeto: secretário de estado dos eua fará...</td>\n",
       "      <td>0</td>\n",
       "    </tr>\n",
       "    <tr>\n",
       "      <th>4</th>\n",
       "      <td>rt @vrt_ramp: pra galera que quer comprar um p...</td>\n",
       "      <td>1</td>\n",
       "    </tr>\n",
       "  </tbody>\n",
       "</table>\n",
       "</div>"
      ],
      "text/plain": [
       "                                               Teste  Relevância\n",
       "0  @victrixhatii tava vendo o ryzen ontem. cabulo...           1\n",
       "1  🔈 🚨 alerta 1: renda brasil morre no ninho : bo...           0\n",
       "2  @fujiwaraca eu vi, agora as coisas vão ficar i...           2\n",
       "3  rt @stabeto: secretário de estado dos eua fará...           0\n",
       "4  rt @vrt_ramp: pra galera que quer comprar um p...           1"
      ]
     },
     "execution_count": 4,
     "metadata": {
     },
     "output_type": "execute_result"
    }
   ],
   "source": [
    "test_raw = pd.read_excel(filename, sheet_name = 'Teste')\n",
    "test_raw.head(5)"
   ]
  },
  {
   "cell_type": "markdown",
   "metadata": {
    "collapsed": false
   },
   "source": [
    "___\n",
    "## Classificador automático de sentimento\n"
   ]
  },
  {
   "cell_type": "markdown",
   "metadata": {
    "collapsed": false
   },
   "source": [
    "***Faça aqui uma descrição do seu produto e o que considerou como relevante ou não relevante na classificação dos tweets.***\n",
    "\n",
    "O produto escolhido foi a marca Intel, pois, desde que a Nvidea (concorrente da Intel) comprou um novo processador para competir no mercado, houve várias notícias discutindo a disputa. Assim, consideramos relevantes os tweets que mais agregavam para essa discussão, além, também, daqueles que falavam bem ou mal da marca com certo nível de argumentação."
   ]
  },
  {
   "cell_type": "markdown",
   "metadata": {
    "collapsed": false
   },
   "source": [
    "___\n",
    "### Montando um Classificador Naive-Bayes\n",
    "\n",
    "Considerando apenas as mensagens da planilha Treinamento, ensine  seu classificador."
   ]
  },
  {
   "cell_type": "code",
   "execution_count": 5,
   "metadata": {
    "collapsed": false,
    "scrolled": true
   },
   "outputs": [
    {
     "data": {
      "text/plain": [
       "Teste         object\n",
       "Relevância     int64\n",
       "dtype: object"
      ]
     },
     "execution_count": 5,
     "metadata": {
     },
     "output_type": "execute_result"
    }
   ],
   "source": [
    "train_raw['Treinamento'].astype('str')\n",
    "test_raw['Teste'].astype('str')\n",
    "test_raw.dtypes"
   ]
  },
  {
   "cell_type": "code",
   "execution_count": 6,
   "metadata": {
    "collapsed": false
   },
   "outputs": [
    {
     "data": {
      "text/html": [
       "<div>\n",
       "<style scoped>\n",
       "    .dataframe tbody tr th:only-of-type {\n",
       "        vertical-align: middle;\n",
       "    }\n",
       "\n",
       "    .dataframe tbody tr th {\n",
       "        vertical-align: top;\n",
       "    }\n",
       "\n",
       "    .dataframe thead th {\n",
       "        text-align: right;\n",
       "    }\n",
       "</style>\n",
       "<table border=\"1\" class=\"dataframe\">\n",
       "  <thead>\n",
       "    <tr style=\"text-align: right;\">\n",
       "      <th></th>\n",
       "      <th>Teste</th>\n",
       "      <th>Relevância</th>\n",
       "    </tr>\n",
       "  </thead>\n",
       "  <tbody>\n",
       "    <tr>\n",
       "      <th>0</th>\n",
       "      <td>@victrixhatii tava vendo o ryzen ontem. cabulo...</td>\n",
       "      <td>Meio Relevante</td>\n",
       "    </tr>\n",
       "    <tr>\n",
       "      <th>1</th>\n",
       "      <td>🔈 🚨 alerta 1: renda brasil morre no ninho : bo...</td>\n",
       "      <td>Irrelevante</td>\n",
       "    </tr>\n",
       "    <tr>\n",
       "      <th>2</th>\n",
       "      <td>@fujiwaraca eu vi, agora as coisas vão ficar i...</td>\n",
       "      <td>Relevante</td>\n",
       "    </tr>\n",
       "    <tr>\n",
       "      <th>3</th>\n",
       "      <td>rt @stabeto: secretário de estado dos eua fará...</td>\n",
       "      <td>Irrelevante</td>\n",
       "    </tr>\n",
       "    <tr>\n",
       "      <th>4</th>\n",
       "      <td>rt @vrt_ramp: pra galera que quer comprar um p...</td>\n",
       "      <td>Meio Relevante</td>\n",
       "    </tr>\n",
       "  </tbody>\n",
       "</table>\n",
       "</div>"
      ],
      "text/plain": [
       "                                               Teste      Relevância\n",
       "0  @victrixhatii tava vendo o ryzen ontem. cabulo...  Meio Relevante\n",
       "1  🔈 🚨 alerta 1: renda brasil morre no ninho : bo...     Irrelevante\n",
       "2  @fujiwaraca eu vi, agora as coisas vão ficar i...       Relevante\n",
       "3  rt @stabeto: secretário de estado dos eua fará...     Irrelevante\n",
       "4  rt @vrt_ramp: pra galera que quer comprar um p...  Meio Relevante"
      ]
     },
     "execution_count": 6,
     "metadata": {
     },
     "output_type": "execute_result"
    }
   ],
   "source": [
    "train_raw['Relevância'] = train_raw['Relevância'].astype('category')\n",
    "train_raw.Relevância.cat.categories = ['Irrelevante', \"Meio Relevante\",'Relevante']\n",
    "train_raw.head()\n",
    "\n",
    "\n",
    "test_raw['Relevância'] = test_raw['Relevância'].astype('category')\n",
    "test_raw.Relevância.cat.categories = ['Irrelevante',\"Meio Relevante\",\"Relevante\"]\n",
    "test_raw.head()"
   ]
  },
  {
   "cell_type": "code",
   "execution_count": 7,
   "metadata": {
    "collapsed": false
   },
   "outputs": [
   ],
   "source": [
    "# CLASSIFICAÇÃO DE RELEÂNCIA NO DATAFRAME'TRAIN'\n",
    "\n",
    "train_irrelevantes = train_raw.loc[train_raw['Relevância']=='Irrelevante',:]\n",
    "train_meio_relevantes = train_raw.loc[train_raw['Relevância'] ==\"Meio Relevante\",:]\n",
    "train_relevantes = train_raw.loc[train_raw['Relevância']==\"Relevante\",:]\n"
   ]
  },
  {
   "cell_type": "code",
   "execution_count": 8,
   "metadata": {
    "collapsed": false
   },
   "outputs": [
   ],
   "source": [
    "# JUNÇÃO DE TODAS OS TWEETS DO DATAFRAME 'TRAIN'\n",
    "\n",
    "treinamento_textao_relevantes = \" \".join(train_relevantes.Treinamento)\n",
    "treinamento_textao_irrelevantes = \" \".join(train_irrelevantes.Treinamento)\n",
    "treinamento_textao_meio_relevantes = \" \".join(train_meio_relevantes.Treinamento)\n",
    "\n",
    "treinamento_textao = ' '.join(train_raw.Treinamento)"
   ]
  },
  {
   "cell_type": "code",
   "execution_count": 9,
   "metadata": {
    "collapsed": false
   },
   "outputs": [
   ],
   "source": [
    "# LIMPEZA DOS CARACTÉRES NO DATAFRAME 'TRAIN'\n",
    "\n",
    "import re \n",
    "def cleanup(text):\n",
    "    punctuation = '[\\n!-.,:;?|/\"]'\n",
    "    pattern = re.compile(punctuation)\n",
    "    text_subbed = re.sub(pattern, '', text)\n",
    "    text_subbed1 = re.sub(r'http\\S+','',text_subbed)\n",
    "    text_subbed2 = re.sub(r'@\\S+',\"\",text_subbed1)\n",
    "    text_subbed3 = re.sub('   ', ' ',text_subbed2)\n",
    "    text_subbed4 = re.sub('  ', ' ',text_subbed3)\n",
    "    return text_subbed4\n",
    "\n",
    "train_limpo = cleanup(treinamento_textao.lower())\n",
    "train_relevantes_limpo = cleanup(treinamento_textao_relevantes.lower())\n",
    "train_irrelevantes_limpo = cleanup(treinamento_textao_irrelevantes.lower())\n",
    "train_meio_relevantes_limpo = cleanup(treinamento_textao_meio_relevantes.lower())\n"
   ]
  },
  {
   "cell_type": "code",
   "execution_count": 10,
   "metadata": {
    "collapsed": false
   },
   "outputs": [
   ],
   "source": [
    "# SEPARAÇÃO DAS PALAVRAS DO DATAFRAME 'TRAIN'\n",
    "\n",
    "todas_palavras_train = train_limpo.split()\n",
    "todas_palavras_train_relevantes = train_relevantes_limpo.split()\n",
    "todas_palavras_train_irrelevantes = train_irrelevantes_limpo.split()\n",
    "todas_palavras_train_meio_relevantes = train_meio_relevantes_limpo.split()\n"
   ]
  },
  {
   "cell_type": "code",
   "execution_count": 11,
   "metadata": {
    "collapsed": false
   },
   "outputs": [
   ],
   "source": [
    "# TABELA DAS PALAVRAS DO DATAFRAME 'TRAIN'\n",
    "\n",
    "serie_treinamento = pd.Series(todas_palavras_train)\n",
    "serie_treinamento_relevantes = pd.Series(todas_palavras_train_relevantes)\n",
    "serie_treinamento_irrelevantes = pd.Series(todas_palavras_train_irrelevantes)\n",
    "serie_treinamento_meio_relevantes = pd.Series(todas_palavras_train_meio_relevantes)\n"
   ]
  },
  {
   "cell_type": "code",
   "execution_count": 12,
   "metadata": {
    "collapsed": false,
    "scrolled": true
   },
   "outputs": [
   ],
   "source": [
    "# TABELA RELATIVA DAS PALAVRAS DO DATAFRAME 'TRAIN'\n",
    "\n",
    "tabela_treinamento_quant = serie_treinamento.value_counts()\n",
    "tabela_treinamento_relevantes_quant= serie_treinamento_relevantes.value_counts()\n",
    "tabela_treinamento_irrelevantes_quant = serie_treinamento_irrelevantes.value_counts()\n",
    "tabela_treinamento_meio_relevantes_quant= serie_treinamento_meio_relevantes.value_counts()\n"
   ]
  },
  {
   "cell_type": "code",
   "execution_count": 13,
   "metadata": {
    "collapsed": false,
    "scrolled": true
   },
   "outputs": [
    {
     "data": {
      "text/plain": [
       "a        79\n",
       "intel    57\n",
       "e        48\n",
       "que      41\n",
       "amd      36\n",
       "dtype: int64"
      ]
     },
     "execution_count": 13,
     "metadata": {
     },
     "output_type": "execute_result"
    }
   ],
   "source": [
    "tabela_treinamento_relevantes_quant.head()"
   ]
  },
  {
   "cell_type": "code",
   "execution_count": 14,
   "metadata": {
    "collapsed": false
   },
   "outputs": [
    {
     "data": {
      "text/plain": [
       "de       125\n",
       "intel    118\n",
       "um        62\n",
       "e         60\n",
       "o         45\n",
       "dtype: int64"
      ]
     },
     "execution_count": 14,
     "metadata": {
     },
     "output_type": "execute_result"
    }
   ],
   "source": [
    "tabela_treinamento_irrelevantes_quant.head()"
   ]
  },
  {
   "cell_type": "code",
   "execution_count": 15,
   "metadata": {
    "collapsed": false
   },
   "outputs": [
    {
     "data": {
      "text/plain": [
       "intel    72\n",
       "de       59\n",
       "e        46\n",
       "a        44\n",
       "um       39\n",
       "dtype: int64"
      ]
     },
     "execution_count": 15,
     "metadata": {
     },
     "output_type": "execute_result"
    }
   ],
   "source": [
    "tabela_treinamento_meio_relevantes_quant.head()"
   ]
  },
  {
   "cell_type": "code",
   "execution_count": 16,
   "metadata": {
    "collapsed": false
   },
   "outputs": [
    {
     "name": "stdout",
     "output_type": "stream",
     "text": [
      "Probabilidade a priori de não ser relevante: 0.56333\n",
      "Probabilidade a priori de ser meio relevante: 0.23333\n",
      "Probabilidade a priori de ser relevante: 0.20333\n"
     ]
    }
   ],
   "source": [
    "# DEFINIÇÃO DA PROBABILIDADE DE RELEVÂNCIA A PRIORI\n",
    "\n",
    "P_r = train_relevantes.size/train_raw.size\n",
    "P_ir = train_irrelevantes.size/train_raw.size\n",
    "P_mr = train_meio_relevantes.size/train_raw.size\n",
    "\n",
    "print(f'Probabilidade a priori de não ser relevante: {P_ir:0.5g}')\n",
    "print(f'Probabilidade a priori de ser meio relevante: {P_mr:0.5g}')\n",
    "print(f'Probabilidade a priori de ser relevante: {P_r:0.5g}')\n"
   ]
  },
  {
   "cell_type": "code",
   "execution_count": 0,
   "metadata": {
    "collapsed": false
   },
   "outputs": [
   ],
   "source": [
   ]
  },
  {
   "cell_type": "code",
   "execution_count": 17,
   "metadata": {
    "collapsed": false
   },
   "outputs": [
    {
     "name": "stdout",
     "output_type": "stream",
     "text": [
      "2\n"
     ]
    }
   ],
   "source": [
    "frase = \"amd é\"\n",
    "\n",
    "def verifica_relevancia(frase):\n",
    "    frase = cleanup(frase.lower())\n",
    "    frase = frase.split()\n",
    "    Pi_frase = 1\n",
    "    P_frase = 1\n",
    "    P_meio_frase=1\n",
    "\n",
    "    for el in frase:\n",
    "        if el not in todas_palavras_train_relevantes:\n",
    "            valor_rele=0\n",
    "        else:\n",
    "            valor_rele=tabela_treinamento_relevantes_quant[el]\n",
    "\n",
    "        if el not in todas_palavras_train_irrelevantes:\n",
    "            valor_irrele=0\n",
    "        else:\n",
    "            valor_irrele=tabela_treinamento_irrelevantes_quant[el]\n",
    "\n",
    "        if el not in todas_palavras_train_meio_relevantes:\n",
    "            valor_mei_rele=0\n",
    "        else:\n",
    "            valor_mei_rele=tabela_treinamento_meio_relevantes_quant[el]\n",
    "\n",
    "        P_frase*=(valor_rele+1)/(tabela_treinamento_relevantes_quant.size + tabela_treinamento_quant.size)\n",
    "        Pi_frase*=(valor_irrele+1)/(tabela_treinamento_irrelevantes_quant.size + tabela_treinamento_quant.size)\n",
    "        P_meio_frase*=(valor_mei_rele+1)/(tabela_treinamento_meio_relevantes_quant.size + tabela_treinamento_quant.size)\n",
    "\n",
    "    P_ir_frase = Pi_frase * P_ir\n",
    "    P_mr_frase = P_meio_frase * P_mr\n",
    "    P_r_frase = P_frase * P_r\n",
    "\n",
    "    if P_ir_frase > P_mr_frase and P_ir_frase > P_r_frase:\n",
    "        return(0)\n",
    "    elif P_mr_frase > P_ir_frase and P_mr_frase > P_r_frase:\n",
    "        return(1)\n",
    "    elif P_r_frase > P_ir_frase and P_r_frase > P_mr_frase:\n",
    "        return(2)\n",
    "\n",
    "    \n",
    "print(verifica_relevancia(frase))"
   ]
  },
  {
   "cell_type": "markdown",
   "metadata": {
    "collapsed": false
   },
   "source": [
    "___\n",
    "### Verificando a performance do Classificador\n",
    "\n",
    "Agora você deve testar o seu classificador com a base de Testes."
   ]
  },
  {
   "cell_type": "code",
   "execution_count": 18,
   "metadata": {
    "collapsed": false
   },
   "outputs": [
   ],
   "source": [
    "lista_relevancia_teste=[]\n",
    "for ele in test_raw[\"Teste\"]:\n",
    "    i=verifica_relevancia(ele)\n",
    "    lista_relevancia_teste.append(i)\n",
    "    \n",
    "test_raw[\"Relevancia_test\"] = lista_relevancia_teste"
   ]
  },
  {
   "cell_type": "code",
   "execution_count": 19,
   "metadata": {
    "collapsed": false
   },
   "outputs": [
   ],
   "source": [
    "test_raw['Relevancia_test'].astype('str')\n",
    "test_raw['Relevancia_test'] = test_raw['Relevancia_test'].astype('category')\n",
    "test_raw['Relevancia_test'].cat.categories = ['Irrelevante',\"Meio Relevante\",\"Relevante\"]"
   ]
  },
  {
   "cell_type": "code",
   "execution_count": 20,
   "metadata": {
    "collapsed": false,
    "scrolled": true
   },
   "outputs": [
    {
     "data": {
      "text/html": [
       "<div>\n",
       "<style scoped>\n",
       "    .dataframe tbody tr th:only-of-type {\n",
       "        vertical-align: middle;\n",
       "    }\n",
       "\n",
       "    .dataframe tbody tr th {\n",
       "        vertical-align: top;\n",
       "    }\n",
       "\n",
       "    .dataframe thead th {\n",
       "        text-align: right;\n",
       "    }\n",
       "</style>\n",
       "<table border=\"1\" class=\"dataframe\">\n",
       "  <thead>\n",
       "    <tr style=\"text-align: right;\">\n",
       "      <th></th>\n",
       "      <th>Teste</th>\n",
       "      <th>Relevância</th>\n",
       "      <th>Relevancia_test</th>\n",
       "    </tr>\n",
       "  </thead>\n",
       "  <tbody>\n",
       "    <tr>\n",
       "      <th>0</th>\n",
       "      <td>@victrixhatii tava vendo o ryzen ontem. cabulo...</td>\n",
       "      <td>Meio Relevante</td>\n",
       "      <td>Irrelevante</td>\n",
       "    </tr>\n",
       "    <tr>\n",
       "      <th>1</th>\n",
       "      <td>🔈 🚨 alerta 1: renda brasil morre no ninho : bo...</td>\n",
       "      <td>Irrelevante</td>\n",
       "      <td>Irrelevante</td>\n",
       "    </tr>\n",
       "    <tr>\n",
       "      <th>2</th>\n",
       "      <td>@fujiwaraca eu vi, agora as coisas vão ficar i...</td>\n",
       "      <td>Relevante</td>\n",
       "      <td>Relevante</td>\n",
       "    </tr>\n",
       "    <tr>\n",
       "      <th>3</th>\n",
       "      <td>rt @stabeto: secretário de estado dos eua fará...</td>\n",
       "      <td>Irrelevante</td>\n",
       "      <td>Irrelevante</td>\n",
       "    </tr>\n",
       "    <tr>\n",
       "      <th>4</th>\n",
       "      <td>rt @vrt_ramp: pra galera que quer comprar um p...</td>\n",
       "      <td>Meio Relevante</td>\n",
       "      <td>Irrelevante</td>\n",
       "    </tr>\n",
       "  </tbody>\n",
       "</table>\n",
       "</div>"
      ],
      "text/plain": [
       "                                               Teste      Relevância  \\\n",
       "0  @victrixhatii tava vendo o ryzen ontem. cabulo...  Meio Relevante   \n",
       "1  🔈 🚨 alerta 1: renda brasil morre no ninho : bo...     Irrelevante   \n",
       "2  @fujiwaraca eu vi, agora as coisas vão ficar i...       Relevante   \n",
       "3  rt @stabeto: secretário de estado dos eua fará...     Irrelevante   \n",
       "4  rt @vrt_ramp: pra galera que quer comprar um p...  Meio Relevante   \n",
       "\n",
       "  Relevancia_test  \n",
       "0     Irrelevante  \n",
       "1     Irrelevante  \n",
       "2       Relevante  \n",
       "3     Irrelevante  \n",
       "4     Irrelevante  "
      ]
     },
     "execution_count": 20,
     "metadata": {
     },
     "output_type": "execute_result"
    }
   ],
   "source": [
    "test_raw.head(5)"
   ]
  },
  {
   "cell_type": "code",
   "execution_count": 21,
   "metadata": {
    "collapsed": false
   },
   "outputs": [
   ],
   "source": [
    "ttes_irrelevantes = test_raw.loc[test_raw['Relevância']=='Irrelevante',:]\n",
    "ttes_meio_relevantes = test_raw.loc[test_raw['Relevância'] ==\"Meio Relevante\",:]\n",
    "ttes_relevantes = test_raw.loc[test_raw['Relevância']==\"Relevante\",:]"
   ]
  },
  {
   "cell_type": "code",
   "execution_count": 22,
   "metadata": {
    "collapsed": false
   },
   "outputs": [
    {
     "name": "stdout",
     "output_type": "stream",
     "text": [
      "Probabilidade a priori de não ser relevante: 0.68421\n",
      "Probabilidade a priori de ser meio relevante: 0.15789\n",
      "Probabilidade a priori de ser relevante: 0.15789\n"
     ]
    }
   ],
   "source": [
    "P_tr = ttes_relevantes.size/test_raw.size\n",
    "P_tir = ttes_irrelevantes.size/test_raw.size\n",
    "P_tmr = ttes_meio_relevantes.size/test_raw.size\n",
    "\n",
    "print(f'Probabilidade a priori de não ser relevante: {P_tir:0.5g}')\n",
    "print(f'Probabilidade a priori de ser meio relevante: {P_tmr:0.5g}')\n",
    "print(f'Probabilidade a priori de ser relevante: {P_tr:0.5g}')"
   ]
  },
  {
   "cell_type": "code",
   "execution_count": 25,
   "metadata": {
    "collapsed": false
   },
   "outputs": [
    {
     "data": {
      "text/html": [
       "<div>\n",
       "<style scoped>\n",
       "    .dataframe tbody tr th:only-of-type {\n",
       "        vertical-align: middle;\n",
       "    }\n",
       "\n",
       "    .dataframe tbody tr th {\n",
       "        vertical-align: top;\n",
       "    }\n",
       "\n",
       "    .dataframe thead th {\n",
       "        text-align: right;\n",
       "    }\n",
       "</style>\n",
       "<table border=\"1\" class=\"dataframe\">\n",
       "  <thead>\n",
       "    <tr style=\"text-align: right;\">\n",
       "      <th>Relevancia_test</th>\n",
       "      <th>Irrelevante</th>\n",
       "      <th>Meio Relevante</th>\n",
       "      <th>Relevante</th>\n",
       "    </tr>\n",
       "    <tr>\n",
       "      <th>Relevância</th>\n",
       "      <th></th>\n",
       "      <th></th>\n",
       "      <th></th>\n",
       "    </tr>\n",
       "  </thead>\n",
       "  <tbody>\n",
       "    <tr>\n",
       "      <th>Irrelevante</th>\n",
       "      <td>84.52</td>\n",
       "      <td>78.95</td>\n",
       "      <td>36.73</td>\n",
       "    </tr>\n",
       "    <tr>\n",
       "      <th>Meio Relevante</th>\n",
       "      <td>14.29</td>\n",
       "      <td>15.79</td>\n",
       "      <td>18.37</td>\n",
       "    </tr>\n",
       "    <tr>\n",
       "      <th>Relevante</th>\n",
       "      <td>1.19</td>\n",
       "      <td>5.26</td>\n",
       "      <td>44.90</td>\n",
       "    </tr>\n",
       "  </tbody>\n",
       "</table>\n",
       "</div>"
      ],
      "text/plain": [
       "Relevancia_test  Irrelevante  Meio Relevante  Relevante\n",
       "Relevância                                             \n",
       "Irrelevante            84.52           78.95      36.73\n",
       "Meio Relevante         14.29           15.79      18.37\n",
       "Relevante               1.19            5.26      44.90"
      ]
     },
     "execution_count": 25,
     "metadata": {
     },
     "output_type": "execute_result"
    }
   ],
   "source": [
    "# crostab\n",
    "pd.crosstab(test_raw.Relevância, test_raw.Relevancia_test,normalize = 'columns').round(4) *100"
   ]
  },
  {
   "cell_type": "markdown",
   "metadata": {
    "collapsed": false
   },
   "source": [
    "___\n",
    "### Concluindo"
   ]
  },
  {
   "cell_type": "markdown",
   "metadata": {
    "collapsed": false
   },
   "source": [
    "## Aperfeiçoamento:\n",
    "\n",
    "Os trabalhos vão evoluir em conceito dependendo da quantidade de itens avançados:\n",
    "\n",
    "* Limpar: \\n, :, \", ', (, ), etc SEM remover emojis ✅\n",
    "* Corrigir separação de espaços entre palavras e emojis ou entre emojis e emojis ✅\n",
    "* Propor outras limpezas e transformações que não afetem a qualidade da informação ou classificação ✅\n",
    "* Criar categorias intermediárias de relevância baseadas na probabilidade: ex.: muito relevante, relevante, neutro, irrelevante, muito irrelevante (3 categorias: C, mais categorias conta para B) ✅\n",
    "* Explicar por que não posso usar o próprio classificador para gerar mais amostras de treinamento ✅\n",
    "* Propor diferentes cenários para Naïve Bayes fora do contexto do projeto ✅\n",
    "* Sugerir e explicar melhorias reais com indicações concretas de como implementar (indicar como fazer e indicar material de pesquisa) ✅\n",
    "* Montar um dashboard que realiza análise de sentimento e visualiza estes dados // \n",
    "___"
   ]
  },
  {
   "cell_type": "markdown",
   "metadata": {
    "collapsed": false
   },
   "source": [
    "***Faça um comparativo qualitativo sobre os percentuais obtidos para que possa discutir a\n",
    "performance do seu classificador.***\n",
    "\n",
    "***R:*** Nosso classificador funciona bem para tweets não relevantes , mas peca para meio relevantes e os relevantes. Isso ocorre por conta da base de tweets extraídos, nela a base train contem em maioria tweets  não relevantes o que favorece a probabilidade do conteúdo já ser considerado não relevante . Mas o que realmente atrapalha o classificador é que a maioria desses tweets não relevantes são anúncios que geralmente contem muitas palavras , desse modo uma palavra que deveria ser \"relevante\" por exemplo aparece muitas vezes nesses anúncios atrapalhando a probabilidade das palavras serem classificadas corretamente."
   ]
  },
  {
   "cell_type": "markdown",
   "metadata": {
    "collapsed": false
   },
   "source": [
    "***Proponha um plano de expansão. Por que eles devem continuar financiando o seu projeto?***\n",
    "\n",
    "***R:*** O plano de expansão proposto baseia-se na obtenção maior de dados relevantes dos usuários. Isso porque, quanto maior for a base de dados obtida, maior o aprimoramento do classificador em obter uma porcentagem de acerto mais precisa. Essa diferenciação das demais empresas concorrentes será vital para as futuras tomadas de decisão de nossa empresa, já que a opinião e gosto do público crítico será levada em consideração, aumentando as probabilidades de lucro futuramente. Além disso, os amantes do produto podem trazer ideias construtivas e inovadoras que, posteriormente, poderão ser implementadas, solucionando as dores dos usuários. Com a Era da Internet as informações circulam quase que no mesmo instante, dessa forma é essencial manter nossa imagem positiva e mostrar que somos próximos de nossos consumidores e atenciosos à suas reclamações, assim, formando uma comunidade fortificada a qual que não nos abandonará em momentos de crise. Para isso, sugerimos a análise de dados mais aprofundada no aplicativo Twitter, como também em outras redes sociais (como Instagram), em grupos de Facebook voltados para tecnologia, fóruns de discussão, etc... lugares, esses, de fácil acesso ao nosso público-alvo. Porém, para isso, precisamos de uma continuação do financiamento do projeto para conseguirmos seguir com nosso objetivo de interação e fazer nossa diferença em nossa área de atuação."
   ]
  },
  {
   "cell_type": "markdown",
   "metadata": {
    "collapsed": false
   },
   "source": [
    "***Explique como são tratadas as mensagens com dupla negação e sarcasmo.***\n",
    "\n",
    "***R:*** Tweets com dupla negação podem ter sido (e provavelmente foram) classificados erroneamente. Tal erro pode ser explicado com base no método que estamos os classificando, pois, o nosso computador não sabe que a dupla negação é a mesma coisa que uma confirmação. Dessa forma, ele só contaria as palavras \"não\", as quais, provavelmente, teriam uma probabilidade maior ou de irrelevantes ou relevantes, o enviesando e não necessariamente considerando seu real significado. A mesma coisa ocorre com o uso do sarcasmo. O nosso classificador não entende quando uma pessoa está sendo sarcástica, de modo que a chance dele errar na classificação é grande.\n"
   ]
  },
  {
   "cell_type": "markdown",
   "metadata": {
    "collapsed": false
   },
   "source": [
    "***Por que não podemos utilizar o próprio classificador para gerar mais amostras de treinamento?***\n",
    "\n",
    "***R:*** Não podemos por dois motivos. O primeiro é de que nossa base de dados é muito pequena ainda para o computador entender coesão e coerência de frases, ou seja, ele não saberia escrever frases que façam sentido. O segundo motivo seria de que, a partir do momento que ele cria sua própria base de treinamento, ele não estaria mais aprendendo e sim replicando o que já conhece, portanto, por mais que ele escrevesse mais infinitos exemplos, ele continuaria escrevendo frases sem sentido, pois, para ele, ele está certo."
   ]
  },
  {
   "cell_type": "markdown",
   "metadata": {
    "collapsed": false
   },
   "source": [
    "***Propor diferentes cenários para Naive Bayes fora do contexto do projeto***\n",
    "\n",
    "***R:*** Cenários:\n",
    "\n",
    "- Já vi um youtuber utilizar um código baseado em Naive Bayes para classificar quais comentários dos vídeos do Youtube dele seriam relevantes. Ele fez isso para encontrar aqueles comentários que realmente falavam sobre o vídeo e propuseram críticas construtivas para ele melhorar. Link: https://www.youtube.com/watch?v=MDtdJBqrIi8&ab_channel=JohnFish.\n",
    "- Igual ao exemplo dado no handout, podemos utilizar o código para diferenciar coisas como: idioma de artigos/livros, palavras frequentes de autores/cantores, podemos também pegar cifras de todas as músicas de uma banda e tentar encontrar os acordes e as palavras mais comuns.\n",
    "- Ao tentar fazer uma Inteligência Artificial para um chat de suporte, por exemplo, precisamos treiná-la para entender como se comunicar com o público-alvo. Dessa forma, uma maneira de fazer isso é, caso o público-alvo seja jovem, pegar amostras de tweets, posts no Instagram e Facebook, etc, e rodar um código Naive Bayes para criar uma base de dados real e condizente com o público. Basicamente, o método Naive Bayes é passível de ser usado na maioria dos casos de Machine Learning, dependendo de seu intuito."
   ]
  },
  {
   "cell_type": "markdown",
   "metadata": {
    "collapsed": false
   },
   "source": [
    "***Sugerir e explicar melhorias reais com indicações concretas de como implementar (indicar como fazer e indicar material de pesquisa)***\n",
    "\n",
    "***R:*** Para melhorarmos nosso código, podemos:\n",
    "\n",
    "- Coletar uma base de dados de treinamento maior. Para isso, podemos buscar em mais lugares além do Twitter (como Instagram, Facebook, blogs, etc...) já que, dependendo do tema, o número de tweets é reduzido. Podemos coletar esses dados em outras línguas e depois fazendo algum sistema de tradução.\n",
    "- Diminuir o número de palavras neutras. O que quero dizer com isso é retirar do nosso código palavras que podem ser usadas em contextos tanto relevantes quanto irrelevantes (como 'vc', 'ele', 'eh',etc...), pois elas podem mais confundir o computador do que nos ajudar. Não é porque na nossa amostra, por exemplo, as frases que consideramos como irrelevantes tem mais palavras como \"vc\" que todos os tweets que a tem serão, por definição, irrelevantes. Ao mesmo tempo, não podemos ignorar o fato de que, caso o comentário tenha sido escrito com português sem girias e abreviações, a possibilidade de ser relevante possa ser significativamente maior. Link de um artigo que comenta sobre isso: https://www.researchgate.net/publication/302979046_The_Importance_of_Neutral_Class_in_Sentiment_Analysis_of_Arabic_Tweets\n",
    "- Considerar mais (ou dar maior peso) para aqueles tweets/comentários que apresentam maior repercussão. Por exemplo, aumentando a relevância de um comentário que tenha mais likes e/ou mais retweets. O que poderia ser feito também é considerar a relevância da pessoa na plataforma (Exemplo: Uma pessoa de 10 seguidores em comparação com uma de 10 milhões), mas por motivos de que isso já afeta o número de likes ou retweets talvez não seja algo muito necessário.\n",
    "- Talvez utilizar outros meios além do classificador de Naive Bayes possa ser complementar, como o Vader, o qual já tem sua base de dados definida com palavras já categorizadas (em inglês) com seu nível de positividade. Dessa forma, teríamos já uma base de treinamento para nosso programa mais forte que só alguns tweets e mais consistente, pois não só duas pessoas classificaram se é relevante ou irrelevante. Link para um artigo falando mais do VADER: https://towardsdatascience.com/sentimental-analysis-using-vader-a3415fef7664 // Link de um GitHub que usa esse método: https://github.com/johnafish/senticomment\n",
    "- Outra forma seria também de coletar dados sobre outros assuntos também para comparação. Isso por quê um grupo que comenta mais sobre determinado assunto pode não representar para o analísta/ para a impresa pontos muito importantes. Portanto uma forma de verificar o nível de relevância que está sendo avaliado pode mudar dependendo do público-alvo.\n",
    "- Outra forma de melhorar o código seria criar outro classificador para verificar se um tweet é um anuncio ou nao e se este fosse classificado como True o conteúdo dele ou seja as palavras nao entrariam para a probabilidade delas serem relevantes ou nao e sim so para a probabilidade a prior dele ser relevante ou não. "
   ]
  },
  {
   "cell_type": "markdown",
   "metadata": {
    "collapsed": false
   },
   "source": [
    "___\n",
    "## Referências"
   ]
  },
  {
   "cell_type": "markdown",
   "metadata": {
    "collapsed": false
   },
   "source": [
    "[Naive Bayes and Text Classification](https://arxiv.org/pdf/1410.5329.pdf)  **Mais completo**\n",
    "\n",
    "[A practical explanation of a Naive Bayes Classifier](https://monkeylearn.com/blog/practical-explanation-naive-bayes-classifier/) **Mais simples**"
   ]
  }
 ],
 "metadata": {
  "kernelspec": {
   "display_name": "Python 3 (system-wide)",
   "language": "python",
   "metadata": {
    "cocalc": {
     "description": "Python 3 programming language",
     "priority": 100,
     "url": "https://www.python.org/"
    }
   },
   "name": "python3"
  },
  "language_info": {
   "codemirror_mode": {
    "name": "ipython",
    "version": 3
   },
   "file_extension": ".py",
   "mimetype": "text/x-python",
   "name": "python",
   "nbconvert_exporter": "python",
   "pygments_lexer": "ipython3",
   "version": "3.8.2"
  }
 },
 "nbformat": 4,
 "nbformat_minor": 4
}